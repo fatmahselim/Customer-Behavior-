{
 "cells": [
  {
   "cell_type": "code",
   "execution_count": 7,
   "id": "4b5b0fdf",
   "metadata": {},
   "outputs": [],
   "source": [
    "import pandas as pd\n",
    "import numpy as np"
   ]
  },
  {
   "cell_type": "code",
   "execution_count": 8,
   "id": "7f62de90",
   "metadata": {},
   "outputs": [],
   "source": [
    "categ=['bedroom','livigroom','kichen','office', 'lighting','dining','outdoor']"
   ]
  },
  {
   "cell_type": "code",
   "execution_count": 9,
   "id": "c4780ba4",
   "metadata": {},
   "outputs": [],
   "source": [
    "BedroomProducts=['bed','bedfram',\"bedside table\",\"study table\",\"cabinets\",\"mirrors\",\"wardrobe\",\"carpets\"]\n",
    "livingroomProducts=['coffee table','sofa','chire','armchair','table','curtains','artwork']\n",
    "kichenproduct=['cabinets','bar stools','chairs','fridge fram ','cup board','shelf','sink']\n",
    "officeproduct=['desks','chairs','armchair','storage']\n",
    "ligtingproduct=['office lamp','bathlight','sptlights','triple pendant','single pendant','wall light','down light','floor lamp']\n",
    "diningroomproduct=['chair', 'table','drawer','plate','cabinet', 'mirror']\n",
    "outdoorproduct=['bench','table','sofa','beach chair','sunlounger','pergola']\n"
   ]
  },
  {
   "cell_type": "code",
   "execution_count": 10,
   "id": "f603aa20",
   "metadata": {},
   "outputs": [],
   "source": [
    "maxCatg=[]\n",
    "for i in range(0,21936):\n",
    "    maxCatg.append(np.random.choice(categ, p=[0.20, 0.30,0.20,0.05,0.07,0.15,0.03]))\n",
    "                   \n",
    "\n",
    "    "
   ]
  },
  {
   "cell_type": "code",
   "execution_count": 11,
   "id": "cb04374d",
   "metadata": {},
   "outputs": [],
   "source": [
    "maxProd=[]\n",
    "for i in range(0,21936):\n",
    "    if maxCatg[i] == 'bedroom':\n",
    "        maxProd.append(np.random.choice(BedroomProducts,p=[0.25, 0.05,0.15,0.03,0.15,0.10,0.07,0.20]))\n",
    "    elif maxCatg[i] == 'livigroom':\n",
    "        maxProd.append(np.random.choice(livingroomProducts,p=[0.05, 0.30,0.20,0.10,0.20,0.05,0.10]))\n",
    "    elif maxCatg[i] == 'kichen':\n",
    "        maxProd.append(np.random.choice(kichenproduct,p=[0.25, 0.10,0.20,0.15,0.05,0.10,0.15]))\n",
    "    elif maxCatg[i] == 'office':\n",
    "        maxProd.append(np.random.choice(officeproduct,p=[0.30, 0.20,0.20,0.30]))\n",
    "    elif maxCatg[i] == 'lighting':\n",
    "        maxProd.append(np.random.choice(ligtingproduct,p=[0.25, 0.10,0.10,0.15,0.15,0.05,0.10,0.10]))\n",
    "    elif maxCatg[i] == 'dining':\n",
    "        maxProd.append(np.random.choice(diningroomproduct,p=[0.20, 0.30,0.15,0.15,0.10,0.10]))\n",
    "    elif maxCatg[i] == 'outdoor':\n",
    "        maxProd.append(np.random.choice(outdoorproduct,p=[0.15, 0.20,0.10,0.05,0.30,0.20]))\n",
    "    else:\n",
    "        maxProd.append(np.nan)"
   ]
  },
  {
   "cell_type": "code",
   "execution_count": 12,
   "id": "ec5fcac7",
   "metadata": {},
   "outputs": [],
   "source": [
    "DaysOnApp=[]\n",
    "for i in range(0,21936):\n",
    "    DaysOnApp.append(int(np.random.exponential(1091)))"
   ]
  },
  {
   "cell_type": "code",
   "execution_count": null,
   "id": "391e0446",
   "metadata": {},
   "outputs": [],
   "source": []
  },
  {
   "cell_type": "code",
   "execution_count": 13,
   "id": "526cad98",
   "metadata": {},
   "outputs": [],
   "source": [
    "totalOrdersNumbers=[]\n",
    "for i in range(0,21936):\n",
    "    if DaysOnApp[i]<90:\n",
    "        totalOrdersNumbers.append(int(np.random.exponential(10)))\n",
    "    else:\n",
    "        totalOrdersNumbers.append(int(np.random.exponential(30)))"
   ]
  },
  {
   "cell_type": "code",
   "execution_count": 38,
   "id": "29dd0ba5",
   "metadata": {},
   "outputs": [],
   "source": [
    "totalPay=[]\n",
    "for i in range(0,21936):\n",
    "    if totalOrdersNumbers[i]==0:\n",
    "        totalPay.append(0)\n",
    "    elif totalOrdersNumbers[i]>=1 & totalOrdersNumbers[i]<4:\n",
    "        totalPay.append(np.random.choice(np.arange(100,25000)))\n",
    "    elif totalOrdersNumbers[i]>=4 & totalOrdersNumbers[i]<10:\n",
    "        totalPay.append(np.random.choice(np.arange(5000,50000)))\n",
    "    elif totalOrdersNumbers[i]>=10 :\n",
    "        totalPay.append(np.random.choice(np.arange(10000,100000)))\n",
    "    "
   ]
  },
  {
   "cell_type": "code",
   "execution_count": null,
   "id": "a7badbd9",
   "metadata": {},
   "outputs": [],
   "source": []
  },
  {
   "cell_type": "code",
   "execution_count": 39,
   "id": "ff3b0ef7",
   "metadata": {},
   "outputs": [],
   "source": [
    "\n",
    "\n",
    "df = pd.DataFrame(\n",
    "        {\n",
    "            \"DaysOnApp\":DaysOnApp,\n",
    "            \"maxCategory\": maxCatg,\n",
    "            \"maxProduct\": maxProd,\n",
    "            \"totalOrdersNumbers\":totalOrdersNumbers,\n",
    "            \"totalPay\":totalPay    \n",
    "        }\n",
    "        \n",
    ")"
   ]
  },
  {
   "cell_type": "code",
   "execution_count": 43,
   "id": "7db6d354",
   "metadata": {},
   "outputs": [
    {
     "data": {
      "text/html": [
       "<div>\n",
       "<style scoped>\n",
       "    .dataframe tbody tr th:only-of-type {\n",
       "        vertical-align: middle;\n",
       "    }\n",
       "\n",
       "    .dataframe tbody tr th {\n",
       "        vertical-align: top;\n",
       "    }\n",
       "\n",
       "    .dataframe thead th {\n",
       "        text-align: right;\n",
       "    }\n",
       "</style>\n",
       "<table border=\"1\" class=\"dataframe\">\n",
       "  <thead>\n",
       "    <tr style=\"text-align: right;\">\n",
       "      <th></th>\n",
       "      <th>DaysOnApp</th>\n",
       "      <th>maxCategory</th>\n",
       "      <th>maxProduct</th>\n",
       "      <th>totalOrdersNumbers</th>\n",
       "      <th>totalPay</th>\n",
       "    </tr>\n",
       "  </thead>\n",
       "  <tbody>\n",
       "    <tr>\n",
       "      <th>1</th>\n",
       "      <td>889</td>\n",
       "      <td>livigroom</td>\n",
       "      <td>sofa</td>\n",
       "      <td>33</td>\n",
       "      <td>14803</td>\n",
       "    </tr>\n",
       "    <tr>\n",
       "      <th>2</th>\n",
       "      <td>164</td>\n",
       "      <td>bedroom</td>\n",
       "      <td>bed</td>\n",
       "      <td>21</td>\n",
       "      <td>21000</td>\n",
       "    </tr>\n",
       "    <tr>\n",
       "      <th>3</th>\n",
       "      <td>651</td>\n",
       "      <td>livigroom</td>\n",
       "      <td>armchair</td>\n",
       "      <td>12</td>\n",
       "      <td>8127</td>\n",
       "    </tr>\n",
       "    <tr>\n",
       "      <th>4</th>\n",
       "      <td>5</td>\n",
       "      <td>livigroom</td>\n",
       "      <td>table</td>\n",
       "      <td>13</td>\n",
       "      <td>14555</td>\n",
       "    </tr>\n",
       "    <tr>\n",
       "      <th>5</th>\n",
       "      <td>1032</td>\n",
       "      <td>bedroom</td>\n",
       "      <td>carpets</td>\n",
       "      <td>60</td>\n",
       "      <td>8519</td>\n",
       "    </tr>\n",
       "    <tr>\n",
       "      <th>...</th>\n",
       "      <td>...</td>\n",
       "      <td>...</td>\n",
       "      <td>...</td>\n",
       "      <td>...</td>\n",
       "      <td>...</td>\n",
       "    </tr>\n",
       "    <tr>\n",
       "      <th>21931</th>\n",
       "      <td>3904</td>\n",
       "      <td>bedroom</td>\n",
       "      <td>carpets</td>\n",
       "      <td>7</td>\n",
       "      <td>935</td>\n",
       "    </tr>\n",
       "    <tr>\n",
       "      <th>21932</th>\n",
       "      <td>2537</td>\n",
       "      <td>kichen</td>\n",
       "      <td>fridge fram</td>\n",
       "      <td>5</td>\n",
       "      <td>6610</td>\n",
       "    </tr>\n",
       "    <tr>\n",
       "      <th>21933</th>\n",
       "      <td>473</td>\n",
       "      <td>kichen</td>\n",
       "      <td>fridge fram</td>\n",
       "      <td>3</td>\n",
       "      <td>23539</td>\n",
       "    </tr>\n",
       "    <tr>\n",
       "      <th>21934</th>\n",
       "      <td>602</td>\n",
       "      <td>lighting</td>\n",
       "      <td>triple pendant</td>\n",
       "      <td>19</td>\n",
       "      <td>22909</td>\n",
       "    </tr>\n",
       "    <tr>\n",
       "      <th>21935</th>\n",
       "      <td>326</td>\n",
       "      <td>lighting</td>\n",
       "      <td>floor lamp</td>\n",
       "      <td>5</td>\n",
       "      <td>22583</td>\n",
       "    </tr>\n",
       "  </tbody>\n",
       "</table>\n",
       "<p>21107 rows × 5 columns</p>\n",
       "</div>"
      ],
      "text/plain": [
       "       DaysOnApp maxCategory      maxProduct  totalOrdersNumbers  totalPay\n",
       "1            889   livigroom            sofa                  33     14803\n",
       "2            164     bedroom             bed                  21     21000\n",
       "3            651   livigroom        armchair                  12      8127\n",
       "4              5   livigroom           table                  13     14555\n",
       "5           1032     bedroom         carpets                  60      8519\n",
       "...          ...         ...             ...                 ...       ...\n",
       "21931       3904     bedroom         carpets                   7       935\n",
       "21932       2537      kichen    fridge fram                    5      6610\n",
       "21933        473      kichen    fridge fram                    3     23539\n",
       "21934        602    lighting  triple pendant                  19     22909\n",
       "21935        326    lighting      floor lamp                   5     22583\n",
       "\n",
       "[21107 rows x 5 columns]"
      ]
     },
     "execution_count": 43,
     "metadata": {},
     "output_type": "execute_result"
    }
   ],
   "source": [
    "df=df[df['totalOrdersNumbers']!=0]\n",
    "df"
   ]
  },
  {
   "cell_type": "code",
   "execution_count": 44,
   "id": "16fe3a51",
   "metadata": {},
   "outputs": [],
   "source": [
    "df.to_csv(\"D:\\Downloads\\orderDataset.csv\", index=False)"
   ]
  },
  {
   "cell_type": "code",
   "execution_count": null,
   "id": "ae9df494",
   "metadata": {},
   "outputs": [],
   "source": []
  }
 ],
 "metadata": {
  "kernelspec": {
   "display_name": "Python 3 (ipykernel)",
   "language": "python",
   "name": "python3"
  },
  "language_info": {
   "codemirror_mode": {
    "name": "ipython",
    "version": 3
   },
   "file_extension": ".py",
   "mimetype": "text/x-python",
   "name": "python",
   "nbconvert_exporter": "python",
   "pygments_lexer": "ipython3",
   "version": "3.9.13"
  }
 },
 "nbformat": 4,
 "nbformat_minor": 5
}
